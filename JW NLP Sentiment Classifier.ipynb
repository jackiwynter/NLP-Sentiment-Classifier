{
  "cells": [
    {
      "cell_type": "markdown",
      "metadata": {
        "id": "f2S8I2ny-ovS"
      },
      "source": [
        "# ANLP Assignment: Sentiment Classification"
      ]
    },
    {
      "cell_type": "code",
      "execution_count": 1,
      "metadata": {
        "id": "1gXQAZas-l9c"
      },
      "outputs": [],
      "source": [
        "candidateno=277248 #this MUST be updated to your candidate number so that you get a unique data sample\n"
      ]
    },
    {
      "cell_type": "code",
      "execution_count": 2,
      "metadata": {
        "id": "nk8JTP88A8vs",
        "colab": {
          "base_uri": "https://localhost:8080/"
        },
        "outputId": "e3b55828-c9e8-48d5-9780-a970e2ff862c"
      },
      "outputs": [
        {
          "output_type": "stream",
          "name": "stderr",
          "text": [
            "[nltk_data] Downloading package punkt to /root/nltk_data...\n",
            "[nltk_data]   Package punkt is already up-to-date!\n",
            "[nltk_data] Downloading package stopwords to /root/nltk_data...\n",
            "[nltk_data]   Package stopwords is already up-to-date!\n",
            "[nltk_data] Downloading package movie_reviews to /root/nltk_data...\n",
            "[nltk_data]   Package movie_reviews is already up-to-date!\n"
          ]
        }
      ],
      "source": [
        "#do not change the code in this cell\n",
        "#preliminary imports\n",
        "\n",
        "#set up nltk\n",
        "import nltk\n",
        "nltk.download('punkt')\n",
        "nltk.download('stopwords')\n",
        "nltk.download('movie_reviews')\n",
        "from nltk.corpus import stopwords\n",
        "from nltk.tokenize import word_tokenize\n",
        "from nltk.corpus import movie_reviews\n",
        "\n",
        "#for setting up training and testing data\n",
        "import random\n",
        "\n",
        "#useful other tools\n",
        "import re\n",
        "import pandas as pd\n",
        "import matplotlib.pyplot as plt\n",
        "%matplotlib inline\n",
        "from itertools import zip_longest\n",
        "from nltk.probability import FreqDist\n",
        "from nltk.classify.api import ClassifierI\n"
      ]
    },
    {
      "cell_type": "code",
      "source": [
        "nltk.download('wordnet')\n",
        "from nltk.stem.wordnet import WordNetLemmatizer\n",
        "from nltk.classify import NaiveBayesClassifier"
      ],
      "metadata": {
        "colab": {
          "base_uri": "https://localhost:8080/"
        },
        "id": "WZlIQG1dNywM",
        "outputId": "91648a4d-fd1c-4960-d338-dcf18508a663"
      },
      "execution_count": 3,
      "outputs": [
        {
          "output_type": "stream",
          "name": "stderr",
          "text": [
            "[nltk_data] Downloading package wordnet to /root/nltk_data...\n",
            "[nltk_data]   Package wordnet is already up-to-date!\n"
          ]
        }
      ]
    },
    {
      "cell_type": "code",
      "execution_count": 4,
      "metadata": {
        "id": "BHBkzAccCVaZ"
      },
      "outputs": [],
      "source": [
        "#do not change the code in this cell\n",
        "def split_data(data, ratio=0.7): # when the second argument is not given, it defaults to 0.7\n",
        "    \"\"\"\n",
        "    Given corpus generator and ratio:\n",
        "     - partitions the corpus into training data and test data, where the proportion in train is ratio,\n",
        "\n",
        "    :param data: A corpus generator.\n",
        "    :param ratio: The proportion of training documents (default 0.7)\n",
        "    :return: a pair (tuple) of lists where the first element of the\n",
        "            pair is a list of the training data and the second is a list of the test data.\n",
        "    \"\"\"\n",
        "\n",
        "    data = list(data)\n",
        "    n = len(data)\n",
        "    train_indices = random.sample(range(n), int(n * ratio))\n",
        "    test_indices = list(set(range(n)) - set(train_indices))\n",
        "    train = [data[i] for i in train_indices]\n",
        "    test = [data[i] for i in test_indices]\n",
        "    return (train, test)\n",
        "\n",
        "\n",
        "def get_train_test_data():\n",
        "\n",
        "    #get ids of positive and negative movie reviews\n",
        "    pos_review_ids=movie_reviews.fileids('pos')\n",
        "    neg_review_ids=movie_reviews.fileids('neg')\n",
        "\n",
        "    #split positive and negative data into training and testing sets\n",
        "    pos_train_ids, pos_test_ids = split_data(pos_review_ids)\n",
        "    neg_train_ids, neg_test_ids = split_data(neg_review_ids)\n",
        "    #add labels to the data and concatenate\n",
        "    training = [(movie_reviews.words(f),'pos') for f in pos_train_ids]+[(movie_reviews.words(f),'neg') for f in neg_train_ids]\n",
        "    testing = [(movie_reviews.words(f),'pos') for f in pos_test_ids]+[(movie_reviews.words(f),'neg') for f in neg_test_ids]\n",
        "\n",
        "    return training, testing"
      ]
    },
    {
      "cell_type": "markdown",
      "metadata": {
        "id": "1N3LWwBYICPP"
      },
      "source": [
        "When you have run the cell below, your unique training and testing samples will be stored in `training_data` and `testing_data`"
      ]
    },
    {
      "cell_type": "code",
      "execution_count": 5,
      "metadata": {
        "id": "HJLegkdPFUJA",
        "colab": {
          "base_uri": "https://localhost:8080/"
        },
        "outputId": "210f6d40-926a-4200-83fa-b004be6fb7fe"
      },
      "outputs": [
        {
          "output_type": "stream",
          "name": "stdout",
          "text": [
            "The amount of training data is 1400\n",
            "The amount of testing data is 600\n",
            "The representation of a single data item is below\n",
            "(['a', 'fully', 'loaded', 'entertainment', 'review', ...], 'pos')\n"
          ]
        }
      ],
      "source": [
        "#do not change the code in this cell\n",
        "random.seed(candidateno)\n",
        "training_data,testing_data=get_train_test_data()\n",
        "print(\"The amount of training data is {}\".format(len(training_data)))\n",
        "print(\"The amount of testing data is {}\".format(len(testing_data)))\n",
        "print(\"The representation of a single data item is below\")\n",
        "print(training_data[0])"
      ]
    },
    {
      "cell_type": "markdown",
      "metadata": {
        "id": "RbTq6eGv2XT2"
      },
      "source": [
        "#1) [20\\%]"
      ]
    },
    {
      "cell_type": "markdown",
      "source": [
        "## Creating Positive and Negative Frequency Distributions\n",
        "\n",
        "Below, we create positive and negative frequency distributions from our training set."
      ],
      "metadata": {
        "id": "__excB1GRZAH"
      }
    },
    {
      "cell_type": "markdown",
      "source": [
        "1.1) Counting how many non-alphabetical characters there are in the `training_data` set so that we can see what types of normalisation must be done on the data.\n"
      ],
      "metadata": {
        "id": "z43x2Mt2U61g"
      }
    },
    {
      "cell_type": "code",
      "execution_count": 6,
      "metadata": {
        "id": "RgePc9hV2XT_",
        "colab": {
          "base_uri": "https://localhost:8080/"
        },
        "outputId": "0a96c743-39a6-4e33-afbf-5fbb9dde7a28"
      },
      "outputs": [
        {
          "output_type": "stream",
          "name": "stdout",
          "text": [
            "There are 177736 non-alpha characters in the training_data set\n"
          ]
        }
      ],
      "source": [
        "# checking to see what types of normalisation must be done on the data\n",
        "\n",
        "num_char_count = 0\n",
        "\n",
        "for (wordlist, label) in training_data:\n",
        "  for item in wordlist:\n",
        "    if item.isalpha() == False:\n",
        "      num_char_count += 1\n",
        "\n",
        "print(f\"There are {num_char_count} non-alpha characters in the training_data set\")"
      ]
    },
    {
      "cell_type": "markdown",
      "source": [
        "1.2) Creating the `normalise()` function, which normalises the words in a wordlist by making all words lowercase, filtering out punctuation, numbers, and any words that are in a list of English stopwords, and lemmatising all remaining words in the list.\n",
        "\n",
        "We make all tokens lowercase so that words with different capitalization are counted as the same word. We filter stopwords because they tend to be the most common words a given corpus, and do not tell us much about the document itself. We filter out punctuation and numbers becasue they do not tell us much about a given document either. We lemmatize words so that words of the same lemma can be counted as a single word instead of multiple tokens which do not tell us more about the document.\n"
      ],
      "metadata": {
        "id": "f62Zp6h5U-hc"
      }
    },
    {
      "cell_type": "code",
      "execution_count": 7,
      "metadata": {
        "id": "gvFu36xZ2XT5"
      },
      "outputs": [],
      "source": [
        "# creating a normalise function that normalises the words in a wordlist\n",
        "\n",
        "stop = stopwords.words('english')\n",
        "\n",
        "def normalise(wordlist):\n",
        "    lowered=[word.lower() for word in wordlist] #don't actually need this as already lowered\n",
        "    filtered=[word for word in lowered if word.isalpha() and word not in stop]\n",
        "    lemmd = [WordNetLemmatizer().lemmatize(word) for word in filtered]\n",
        "    return lemmd"
      ]
    },
    {
      "cell_type": "markdown",
      "source": [
        "1.3) Creating `training_norm` and `testing_norm`: lists in which each item is a frequency distribution representing a document in `training_data` or `testing_data` respectively, paired with a label indicating if the document is positive or negative. To create these lists, we modify the `training_data` and `testing_data` lists by applying the `normalise()` and then the `FreqDist()` function to each wordlist in the dataset, while keeping the label for each unchanged.\n",
        "\n",
        "We use frequency distributions because the wordlists are generated based on how often each word appears in the corpus for each class."
      ],
      "metadata": {
        "id": "AJBWnlyBVGfU"
      }
    },
    {
      "cell_type": "code",
      "source": [
        "# creating frequency distributions for both datasets\n",
        "\n",
        "training_norm=[(FreqDist(normalise(wordlist)),label) for (wordlist,label) in training_data]\n",
        "testing_norm=[(FreqDist(normalise(wordlist)),label) for (wordlist,label) in testing_data]\n",
        "\n",
        "training_norm[0]"
      ],
      "metadata": {
        "colab": {
          "base_uri": "https://localhost:8080/"
        },
        "id": "O9mpA9I1NAV8",
        "outputId": "576999a3-53b1-4650-8281-7475a417a9d8"
      },
      "execution_count": 8,
      "outputs": [
        {
          "output_type": "execute_result",
          "data": {
            "text/plain": [
              "(FreqDist({'cable': 8, 'guy': 8, 'steven': 7, 'carrey': 5, 'rather': 4, 'also': 3, 'critic': 3, 'like': 3, 'movie': 3, 'whole': 2, ...}),\n",
              " 'pos')"
            ]
          },
          "metadata": {},
          "execution_count": 8
        }
      ]
    },
    {
      "cell_type": "markdown",
      "source": [
        "1.4) Sorting the data in `training_norm` into a positive frequency distribution `pos_freq_dist` and a negative frequency distribution `neg_freq_dist`, which are frequency distributions of the words in all positive and negative documents in the training set respectively. To do this, we use a for loop to check if the label for each document is \"pos\". If it is, then the corresponding frequency distribution is added to `pos_freq_dist`. If the label is not \"pos\", we assume that the review is negative, as there are only two label options, and the corresponding frequency distribution is instead added to `neg_freq_dist`.\n",
        "\n",
        "We can use these frequency distributions to create our representative wordlists."
      ],
      "metadata": {
        "id": "7JlYe-sLVJ4g"
      }
    },
    {
      "cell_type": "code",
      "source": [
        "# sorting the data in training_norm into\n",
        "# a positive frequency distribution and a negative frequency distribution\n",
        "\n",
        "pos_freq_dist=FreqDist()\n",
        "neg_freq_dist=FreqDist()\n",
        "\n",
        "for reviewDist,label in training_norm:\n",
        "    if label=='pos':\n",
        "        pos_freq_dist+=reviewDist\n",
        "    else:\n",
        "        neg_freq_dist+=reviewDist\n",
        "\n",
        "print(pos_freq_dist)\n",
        "print(neg_freq_dist)"
      ],
      "metadata": {
        "colab": {
          "base_uri": "https://localhost:8080/"
        },
        "id": "I7mmalaSNEqf",
        "outputId": "5dcdfc26-5265-4e97-a7d5-cd73220059f2"
      },
      "execution_count": 9,
      "outputs": [
        {
          "output_type": "stream",
          "name": "stdout",
          "text": [
            "<FreqDist with 22610 samples and 258322 outcomes>\n",
            "<FreqDist with 20979 samples and 229218 outcomes>\n"
          ]
        }
      ]
    },
    {
      "cell_type": "markdown",
      "source": [
        "## Using Frequency Distributions to Create Positive & Negative Wordlists\n",
        "\n",
        "Below, we produce the positive and negative wordlists by passing `pos_freq_dist` and `neg_freq_dist` through the `most_frequent_words()` function."
      ],
      "metadata": {
        "id": "VJewni9XUQv6"
      }
    },
    {
      "cell_type": "markdown",
      "source": [
        "1.5) Creating the `most_frequent_words()` function, which takes two frequency distributions and an integer $k$. The function orders words by how much more they occur in one frequency distribution than the other, which helps to provide us with words that are most representative of the reviews of a certain class in our data. It does this by subtracting one wordlist from the other and then uses the `most_common()` function to select the top $k$ words from the resulting difference list.\n",
        "\n",
        "I choose to use the most frequent words method over the threshold method in this report because I understand it more intuitively."
      ],
      "metadata": {
        "id": "FjUERBsVVhkq"
      }
    },
    {
      "cell_type": "code",
      "source": [
        "def most_frequent_words(freq1,freq2,k):\n",
        "    difference = freq1-freq2\n",
        "    sorteddiff = difference.most_common()\n",
        "    justwords = [word for (word,freq) in sorteddiff[:k]]\n",
        "    return justwords"
      ],
      "metadata": {
        "id": "l1N44PQ9UqoL"
      },
      "execution_count": 10,
      "outputs": []
    },
    {
      "cell_type": "markdown",
      "source": [
        "1.6) Generating `pos_wordlist10`, a wordlist of 10 content words which are representative of the positive reviews in our training data. We do this by passing (`pos_freq_dist`, `neg_freq_dist`) through the `most_frequent_words` function."
      ],
      "metadata": {
        "id": "-h4wvoHSVo7w"
      }
    },
    {
      "cell_type": "code",
      "source": [
        "pos_wordlist10 = most_frequent_words(pos_freq_dist, neg_freq_dist, 10)\n",
        "pos_wordlist10"
      ],
      "metadata": {
        "colab": {
          "base_uri": "https://localhost:8080/"
        },
        "id": "z0xY44NnUuxT",
        "outputId": "8bc4c92c-95b2-4e70-ba8f-2c903c5364ce"
      },
      "execution_count": 11,
      "outputs": [
        {
          "output_type": "execute_result",
          "data": {
            "text/plain": [
              "['film',\n",
              " 'life',\n",
              " 'story',\n",
              " 'also',\n",
              " 'performance',\n",
              " 'great',\n",
              " 'well',\n",
              " 'world',\n",
              " 'best',\n",
              " 'many']"
            ]
          },
          "metadata": {},
          "execution_count": 11
        }
      ]
    },
    {
      "cell_type": "markdown",
      "source": [
        "1.7) Generating `neg_wordlist10`, a wordlist of 10 content words which are representative of the negative reviews in our training data. We do this by passing (`neg_freq_dist`, `pos_freq_dist`) through the `most_frequent_words` function."
      ],
      "metadata": {
        "id": "0DcAfLWRiMVz"
      }
    },
    {
      "cell_type": "code",
      "source": [
        "neg_wordlist10 = most_frequent_words(neg_freq_dist, pos_freq_dist, 10)\n",
        "neg_wordlist10"
      ],
      "metadata": {
        "colab": {
          "base_uri": "https://localhost:8080/"
        },
        "id": "qphgXYg2U7kk",
        "outputId": "47ea0688-27e3-44fc-bf28-1214002436ca"
      },
      "execution_count": 12,
      "outputs": [
        {
          "output_type": "execute_result",
          "data": {
            "text/plain": [
              "['movie',\n",
              " 'bad',\n",
              " 'plot',\n",
              " 'even',\n",
              " 'minute',\n",
              " 'worst',\n",
              " 'get',\n",
              " 'boring',\n",
              " 'big',\n",
              " 'stupid']"
            ]
          },
          "metadata": {},
          "execution_count": 12
        }
      ]
    },
    {
      "cell_type": "markdown",
      "metadata": {
        "id": "TApOQE6vND20"
      },
      "source": [
        "#2) [12.5\\%]"
      ]
    },
    {
      "cell_type": "markdown",
      "source": [
        "Below we have built a word list classifier, `SimpleClassifier()`, which classifies documents as being positive (\"pos\") or negative (\"neg\"). It inherits from the NLTK `ClassifierI` class, which means that all attributes and methods in the `ClassifierI` class are availalbe in the `SimpleClassifier()` class unless they are explicitly over-ridden."
      ],
      "metadata": {
        "id": "FkteFsZ1npb7"
      }
    },
    {
      "cell_type": "markdown",
      "source": [
        "2.1) Creating the `SimpleClassifier()` class:\n",
        "\n",
        "- The initialisation method `__init__()` takes two arguments: `pos`, a predefined positive wordlist and `neg`, predefined negative wordlist.\n",
        "\n",
        "- The classification method `classify()` takes one argument: `doc`, a frequency distribution of words from a document. This method uses for loops to check if each word in `doc` is in the positive or negative wordlists from the initialised classifer. If the word appears in `pos`, then the value listed in the frequency distribution for that word is added to `score`. If the word appears in `neg`, then the value listed in the frequency distribution is subtracted from `score`. If `score` at the end of the for loop is negative, then the document is classified as \"neg\". If it is positive, then the document is classified as \"pos\". If it is zero, then the document is randomly classified as either \"pos\" or \"neg\".\n",
        "\n",
        "- The label retrieval method `labels()` gives the possible labels that the classifier can return."
      ],
      "metadata": {
        "id": "52QV4Yhztg8W"
      }
    },
    {
      "cell_type": "code",
      "source": [
        "class SimpleClassifier(ClassifierI):\n",
        "\n",
        "    def __init__(self, pos, neg):\n",
        "        self._pos = pos\n",
        "        self._neg = neg\n",
        "\n",
        "    def classify(self, doc):\n",
        "        #doc is a FreqDist\n",
        "        score = 0\n",
        "\n",
        "        # add code here that assigns an appropriate value to score\n",
        "        for word,value in doc.items():\n",
        "            if word in self._pos:\n",
        "                score+=value\n",
        "            if word in self._neg:\n",
        "                score-=value\n",
        "\n",
        "        if score < 0:\n",
        "          return \"neg\"\n",
        "        elif score > 0:\n",
        "          return \"pos\"\n",
        "        else:\n",
        "          return random.choice([\"pos\", \"neg\"])\n",
        "\n",
        "    def labels(self):\n",
        "        return (\"pos\", \"neg\")"
      ],
      "metadata": {
        "id": "VDV5IkgIb6-k"
      },
      "execution_count": 13,
      "outputs": []
    },
    {
      "cell_type": "markdown",
      "source": [
        "2.4) Defining `classifier`, a classifier of the `SimpleClassifier()` class using the lists generated in Q1: `pos_wordlist10` and `neg_wordlist10`. This produces a word list classifier which will classify reviews as being positive or negative based on the given wordlists. We test this classifier with a sample sentence represented as a frequency distribution."
      ],
      "metadata": {
        "id": "iw4YJfoOzIwp"
      }
    },
    {
      "cell_type": "code",
      "source": [
        "classifier = SimpleClassifier(pos_wordlist10, neg_wordlist10)\n",
        "classifier.classify(FreqDist(\"The movie was bad\".split()))"
      ],
      "metadata": {
        "colab": {
          "base_uri": "https://localhost:8080/",
          "height": 35
        },
        "id": "O2RGCwI7zDDE",
        "outputId": "5150ddee-1a26-4470-c870-c1aa3ea5bf20"
      },
      "execution_count": 14,
      "outputs": [
        {
          "output_type": "execute_result",
          "data": {
            "text/plain": [
              "'neg'"
            ],
            "application/vnd.google.colaboratory.intrinsic+json": {
              "type": "string"
            }
          },
          "metadata": {},
          "execution_count": 14
        }
      ]
    },
    {
      "cell_type": "markdown",
      "metadata": {
        "id": "YZdDO_Y92XUH"
      },
      "source": [
        "#3) [20\\%]"
      ]
    },
    {
      "cell_type": "markdown",
      "source": [
        "3.1) Calculating the accuracy of the classifier `classifier`."
      ],
      "metadata": {
        "id": "Zxf8W_Ag93UU"
      }
    },
    {
      "cell_type": "code",
      "execution_count": 15,
      "metadata": {
        "id": "1LQc8bsA2XUI"
      },
      "outputs": [],
      "source": [
        "def classifier_accuracy(cls, test_data):\n",
        "    '''\n",
        "    cls: an instance of a classifier object which has a classify method which returns \"pos\" or \"neg\"\n",
        "    test_data: a list of pairs where each pair is a FreqDist rep of a doc and its label\n",
        "\n",
        "    returns: float point number which is the accuracy of the classifier on the test data provided\n",
        "    '''\n",
        "    acc = 0\n",
        "    docs,goldstandard = zip(*test_data)\n",
        "    #pass all of the docs to the classifier and get back a list of predictions\n",
        "    predictions=cls.classify_many(docs)\n",
        "    #zip the predictions with the goldstandard labels and compare\n",
        "    for prediction,goldlabel in zip(predictions,goldstandard):\n",
        "        if prediction==goldlabel:\n",
        "            acc+=1\n",
        "\n",
        "    return acc / (len(test_data))"
      ]
    },
    {
      "cell_type": "code",
      "execution_count": 16,
      "metadata": {
        "id": "R_i80ceP2XUJ",
        "colab": {
          "base_uri": "https://localhost:8080/"
        },
        "outputId": "47991a6d-05c6-46d6-b113-4590dd3042dc"
      },
      "outputs": [
        {
          "output_type": "stream",
          "name": "stdout",
          "text": [
            "The accuracy of this classifier is 0.635\n"
          ]
        }
      ],
      "source": [
        "#Evaluate classifier\n",
        "accuracy_wordlist = classifier_accuracy(classifier, testing_norm)\n",
        "print(f\"The accuracy of this classifier is {accuracy_wordlist}\")"
      ]
    },
    {
      "cell_type": "markdown",
      "source": [
        "3.2) Calculating the precision, recall, and F1-Score of the classifier `classifier`, as well as other relevant figures."
      ],
      "metadata": {
        "id": "Hj87SaiA9sC9"
      }
    },
    {
      "cell_type": "code",
      "source": [
        "class ConfusionMatrix:\n",
        "    def __init__(self,predictions,goldstandard,classes=(\"pos\",\"neg\")):\n",
        "\n",
        "        (self.c1,self.c2)=classes\n",
        "        self.TP=0\n",
        "        self.FP=0\n",
        "        self.FN=0\n",
        "        self.TN=0\n",
        "        for p,g in zip(predictions,goldstandard):\n",
        "            if g==self.c1:\n",
        "                if p==self.c1:\n",
        "                    self.TP+=1\n",
        "                else:\n",
        "                    self.FN+=1\n",
        "\n",
        "            elif p==self.c1:\n",
        "                self.FP+=1\n",
        "            else:\n",
        "                self.TN+=1\n",
        "\n",
        "\n",
        "    def precision(self):\n",
        "        p = 0\n",
        "        p = (self.TP)/(self.TP + self.FP)\n",
        "\n",
        "        return p\n",
        "\n",
        "    def recall(self):\n",
        "        r=0\n",
        "        r = (self.TP)/(self.TP + self.FN)\n",
        "\n",
        "        return r\n",
        "\n",
        "    def f1(self):\n",
        "        f1=0\n",
        "        p = self.precision()\n",
        "        r = self.recall()\n",
        "\n",
        "        f1 = (2*p*r)/(p+r)\n",
        "\n",
        "        return f1"
      ],
      "metadata": {
        "id": "LYVULLJFRB8f"
      },
      "execution_count": 17,
      "outputs": []
    },
    {
      "cell_type": "code",
      "source": [
        "#docs will contain the documents to classify, labels contains the corresponding gold standard labels\n",
        "docs,labels=zip(*testing_norm)\n",
        "senti_cm=ConfusionMatrix(classifier.classify_many(docs),labels)\n",
        "print(\"True positive score is {}\".format(senti_cm.TP))\n",
        "print(\"False positive score is {}\".format(senti_cm.FP))\n",
        "print(\"True negative score is {}\".format(senti_cm.TN))\n",
        "print(\"False negative score is {}\".format(senti_cm.FN))\n",
        "print(\"\\n\")\n",
        "print(\"Precision is {}\".format(senti_cm.precision()))\n",
        "print(\"Recall is {}\".format(senti_cm.recall()))\n",
        "print(\"F1-Score is {}\".format(senti_cm.f1()))"
      ],
      "metadata": {
        "colab": {
          "base_uri": "https://localhost:8080/"
        },
        "id": "1fpoYVRYRox8",
        "outputId": "a40c0467-780d-4bbe-926b-2be3dec30a62"
      },
      "execution_count": 18,
      "outputs": [
        {
          "output_type": "stream",
          "name": "stdout",
          "text": [
            "True positive score is 239\n",
            "False positive score is 161\n",
            "True negative score is 139\n",
            "False negative score is 61\n",
            "\n",
            "\n",
            "Precision is 0.5975\n",
            "Recall is 0.7966666666666666\n",
            "F1-Score is 0.6828571428571428\n"
          ]
        }
      ]
    },
    {
      "cell_type": "markdown",
      "source": [
        "###Metrics for this classifier:\n",
        "\n",
        "Accuracy $= 0.635$\n",
        "\n",
        "Precision $= 0.5975 \\approx 0.598$\n",
        "\n",
        "Recall $= 0.7966666666666666 \\approx 0.797$\n",
        "\n",
        "F1-Score $= 0.6828571428571428 \\approx 0.683$"
      ],
      "metadata": {
        "id": "4KGQvpbL8_y0"
      }
    },
    {
      "cell_type": "markdown",
      "metadata": {
        "id": "AVZp0N5J2XUL"
      },
      "source": [
        "### Evaluating Classifiers in terms of Accuracy:\n",
        "\n",
        "In this case, it is reasonable to evaluate the classifier in terms of its accuracy. This is because the classes in our dataset are approximately balanced, meaning that the number of instances of each class in the dataset are approximately equal. Additionally, the quality and overall correctness of the classifier as suggested by its accuracy are in line with the quality of the classifier as suggested by its other metrics, providing futher support for the argument that it is reasonable to evaluate the classifier in terms of its accuracy in this case.\n",
        "\n",
        "It would not be reasonable to evaluate a classifier in terms of its accuracy if the classes were imbalanced. This means that the number of instances of each class in the dataset are not equal. For example, if 99% of the reviews in our dataset were negative and 1% of the reviews in our dataset were positive, then creating a classifer that labels every review as negative would result in a 99% accuracy rate. In this case, accuracy would be a misleading measure of the quality and overall correctness of the classifier.\n",
        "\n",
        "Depending on what you are interested in using the clasifer for, accuracy may be too blunt a measure. Metrics which consider nuances such as true positives, true negatives, false positives, and false negatives, including precision, accuracy, and F1-score, could tell you more relevant information about a given classifier. These metrics are useful both to get a better sense of the quality of the classifier or to dig deeper into a particular function of a given classifier.\n",
        "\n",
        "Datasets on average tend to be imbalanced more often than they are balanced, so it is more likely for accuracy to be an unreasonable method of evaluating a classifier without also considering supporting data from other metrics like precision, accuracy, and F1-score."
      ]
    },
    {
      "cell_type": "markdown",
      "metadata": {
        "id": "LIS9UpmJNEAp"
      },
      "source": [
        "#4) [12.5\\%]"
      ]
    },
    {
      "cell_type": "code",
      "execution_count": 19,
      "metadata": {
        "id": "Gwjig-Y12XUN"
      },
      "outputs": [],
      "source": [
        "nltk_nb=NaiveBayesClassifier.train(training_norm)"
      ]
    },
    {
      "cell_type": "code",
      "source": [
        "nltk_accuracy = classifier_accuracy(nltk_nb, testing_norm)\n",
        "print(f\"The accuracy of this Naive Bayes Classifer is {nltk_accuracy}\")"
      ],
      "metadata": {
        "colab": {
          "base_uri": "https://localhost:8080/"
        },
        "id": "s_sDo4NiXFus",
        "outputId": "2a1d10eb-b154-473f-df28-79e6497b5a75"
      },
      "execution_count": 20,
      "outputs": [
        {
          "output_type": "stream",
          "name": "stdout",
          "text": [
            "The accuracy of this Naive Bayes Classifer is 0.6733333333333333\n"
          ]
        }
      ]
    },
    {
      "cell_type": "code",
      "source": [
        "nltk_cm=ConfusionMatrix(nltk_nb.classify_many(docs),labels,classes=('pos','neg'))\n",
        "\n",
        "print(\"True positive score is {}\".format(nltk_cm.TP))\n",
        "print(\"False positive score is {}\".format(nltk_cm.FP))\n",
        "print(\"True negative score is {}\".format(nltk_cm.TN))\n",
        "print(\"False negative score is {}\".format(nltk_cm.FN))\n",
        "print(\"\\n\")\n",
        "print(\"Precision is {}\".format(nltk_cm.precision()))\n",
        "print(\"Recall is {}\".format(nltk_cm.recall()))\n",
        "print(\"F1 score is {}\".format(nltk_cm.f1()))"
      ],
      "metadata": {
        "colab": {
          "base_uri": "https://localhost:8080/"
        },
        "id": "r0l_rEIzVkAS",
        "outputId": "e97c431f-c11b-432e-e69f-4755fdc1f716"
      },
      "execution_count": 21,
      "outputs": [
        {
          "output_type": "stream",
          "name": "stdout",
          "text": [
            "True positive score is 288\n",
            "False positive score is 184\n",
            "True negative score is 116\n",
            "False negative score is 12\n",
            "\n",
            "\n",
            "Precision is 0.6101694915254238\n",
            "Recall is 0.96\n",
            "F1 score is 0.7461139896373056\n"
          ]
        }
      ]
    },
    {
      "cell_type": "code",
      "source": [
        "# Evaluate the classifiers on the test set\n",
        "my_classifier_accuracy = accuracy_wordlist\n",
        "naive_bayes_accuracy = nltk_accuracy\n",
        "\n",
        "my_classifier_precision = senti_cm.precision()\n",
        "naive_bayes_precision = nltk_cm.precision()\n",
        "\n",
        "my_classifier_recall = senti_cm.recall()\n",
        "naive_bayes_recall = nltk_cm.recall()\n",
        "\n",
        "my_classifier_f1_score = senti_cm.f1()\n",
        "naive_bayes_f1_score = nltk_cm.f1()\n",
        "\n",
        "# Create a DataFrame\n",
        "data = {\n",
        "    \"Metric\": [\"Accuracy\", \"Precision\", \"Recall\", \"F1 Score\"],\n",
        "    \"My Classifier\": [my_classifier_accuracy, my_classifier_precision, my_classifier_recall, my_classifier_f1_score],\n",
        "    \"Naive Bayes Classifier\": [naive_bayes_accuracy, naive_bayes_precision, naive_bayes_recall, naive_bayes_f1_score]\n",
        "}\n",
        "\n",
        "df = pd.DataFrame(data)\n",
        "\n",
        "# Print the DataFrame\n",
        "print(df)\n"
      ],
      "metadata": {
        "colab": {
          "base_uri": "https://localhost:8080/"
        },
        "id": "QR5mq8TDXQH0",
        "outputId": "be211f24-c29a-497d-8bc4-badda1607937"
      },
      "execution_count": 22,
      "outputs": [
        {
          "output_type": "stream",
          "name": "stdout",
          "text": [
            "      Metric  My Classifier  Naive Bayes Classifier\n",
            "0   Accuracy       0.635000                0.673333\n",
            "1  Precision       0.597500                0.610169\n",
            "2     Recall       0.796667                0.960000\n",
            "3   F1 Score       0.682857                0.746114\n"
          ]
        }
      ]
    },
    {
      "cell_type": "code",
      "source": [
        "# Add the \"Metric\" column to the DataFrame\n",
        "df[\"Metric\"] = [\"Accuracy\", \"Precision\", \"Recall\", \"F1 Score\"]\n",
        "\n",
        "# Plotting\n",
        "fig, ax = plt.subplots(figsize=(10, 6))\n",
        "df.set_index(\"Metric\").plot(kind=\"bar\", ax=ax, color=['royalblue', 'hotpink'])\n",
        "ax.set_ylabel(\"Score\")\n",
        "ax.set_title(\"Classifier Evaluation Metrics\")\n",
        "\n",
        "# Display the values on top of the bars\n",
        "for p in ax.patches:\n",
        "    ax.annotate(str(round(p.get_height(), 2)), (p.get_x() + p.get_width() / 2., p.get_height()),\n",
        "                ha='center', va='center', xytext=(0, 10), textcoords='offset points')\n",
        "\n",
        "plt.show()"
      ],
      "metadata": {
        "colab": {
          "base_uri": "https://localhost:8080/",
          "height": 614
        },
        "id": "j5fMOMRq-TI2",
        "outputId": "662ffea1-3a9b-41c0-dd9b-43d0e4c76a55"
      },
      "execution_count": 23,
      "outputs": [
        {
          "output_type": "display_data",
          "data": {
            "text/plain": [
              "<Figure size 1000x600 with 1 Axes>"
            ],
            "image/png": "[encoded data removed]"
          },
          "metadata": {}
        }
      ]
    },
    {
      "cell_type": "markdown",
      "metadata": {
        "id": "bytPkuHf2XUO"
      },
      "source": [
        "The Naive Bayes classifier is more accurate than our worldlist classifier, with a difference of about 0.03. It also has slightly higher precision, although the two values are very close with a difference of only about 0.01. The Naive Bayes classifier outperforms our wordlist classifier most significantly in the recall metric, with a difference of about 0.16. While the Naive Bayes classifier does a better job of correctly identifying positive instances, the two classifiers are comparable in their ability to minimize false positives. As the Naive Bayes classifier outperforms our wordlist classifier in both precision and recall, it follows that it also has a superior F1 Score, with a difference of about 0.07. On all recorded metrics, the Naive Bayes classifier outperforms our wordlist classifier, and so we can conclude that it is better at sentiment analysis on the test set.\n",
        "\n",
        "In order to improve the performance of our wordlist classifier we could attempt to increase the number of words on the wordlist. We will discuss this potential further in Q5."
      ]
    },
    {
      "cell_type": "markdown",
      "metadata": {
        "id": "LGDXaVDqOSfY"
      },
      "source": [
        "#5) [25\\%]"
      ]
    },
    {
      "cell_type": "markdown",
      "source": [
        "In this experiment, we aim to investigate the impact of varying word list sizes on the performance of the word list classifier. The experiment involves iterating over different word list sizes, training a word list classifier with the specified size, and evaluating its accuracy, precision, recall, and F1 score. The experiment is repeated for three runs to ensure robustness. We then evaluate the results of the experiment and draw conclusions."
      ],
      "metadata": {
        "id": "Fqtq7BLPPhxp"
      }
    },
    {
      "cell_type": "markdown",
      "source": [
        "## Setting Up the Experiment\n",
        "\n",
        "Below, we try to get a sense of our data to choose appropriate parameters, initialise relevant dictionaries, and set the number of runs and wordlist sizes."
      ],
      "metadata": {
        "id": "NBjpAMSFH3y6"
      }
    },
    {
      "cell_type": "markdown",
      "source": [
        "5.1) Examining the order of magnitude for the number of words that contribute significantly to the positive or negative sentiment of the data. We do this to get a sense of how long the wordlists we test in the experiment should be."
      ],
      "metadata": {
        "id": "ZQSL-IzZhNK-"
      }
    },
    {
      "cell_type": "code",
      "source": [
        "values = [0, 1, 2, 5, 10, 15, 20, 50, 75, 100]\n",
        "pos_diff_dict = {}\n",
        "\n",
        "difference = pos_freq_dist - neg_freq_dist\n",
        "sorteddiff = difference.most_common()\n",
        "\n",
        "for v in values:\n",
        "  pos_diff_dict[v] = [(word,value) for (word, value) in sorteddiff if value > v]\n",
        "\n",
        "for v in values:\n",
        "  print(f\"There are {len(pos_diff_dict[v])} noteworthy positive words whose difference is more than {v}\")"
      ],
      "metadata": {
        "colab": {
          "base_uri": "https://localhost:8080/"
        },
        "id": "B-5I3lD3jA4c",
        "outputId": "3cad704f-39a2-4268-b7d7-04bd170ed5b7"
      },
      "execution_count": 24,
      "outputs": [
        {
          "output_type": "stream",
          "name": "stdout",
          "text": [
            "There are 15240 noteworthy positive words whose difference is more than 0\n",
            "There are 7905 noteworthy positive words whose difference is more than 1\n",
            "There are 5341 noteworthy positive words whose difference is more than 2\n",
            "There are 2722 noteworthy positive words whose difference is more than 5\n",
            "There are 1419 noteworthy positive words whose difference is more than 10\n",
            "There are 891 noteworthy positive words whose difference is more than 15\n",
            "There are 620 noteworthy positive words whose difference is more than 20\n",
            "There are 139 noteworthy positive words whose difference is more than 50\n",
            "There are 65 noteworthy positive words whose difference is more than 75\n",
            "There are 35 noteworthy positive words whose difference is more than 100\n"
          ]
        }
      ]
    },
    {
      "cell_type": "code",
      "source": [
        "neg_diff_dict = {}\n",
        "\n",
        "difference2 = neg_freq_dist - pos_freq_dist\n",
        "sorteddiff2 = difference2.most_common()\n",
        "\n",
        "for v in values:\n",
        "  neg_diff_dict[v] = [(word,value) for (word, value) in sorteddiff2 if value > v]\n",
        "\n",
        "for v in values:\n",
        "  print(f\"There are {len(neg_diff_dict[v])} noteworthy negative words whose difference is more than {v}\")"
      ],
      "metadata": {
        "colab": {
          "base_uri": "https://localhost:8080/"
        },
        "id": "66f5n2WDkQrS",
        "outputId": "3ad75a80-e9ea-40f9-b1b6-4c906afedebb"
      },
      "execution_count": 25,
      "outputs": [
        {
          "output_type": "stream",
          "name": "stdout",
          "text": [
            "There are 11779 noteworthy negative words whose difference is more than 0\n",
            "There are 5529 noteworthy negative words whose difference is more than 1\n",
            "There are 3500 noteworthy negative words whose difference is more than 2\n",
            "There are 1561 noteworthy negative words whose difference is more than 5\n",
            "There are 722 noteworthy negative words whose difference is more than 10\n",
            "There are 449 noteworthy negative words whose difference is more than 15\n",
            "There are 286 noteworthy negative words whose difference is more than 20\n",
            "There are 58 noteworthy negative words whose difference is more than 50\n",
            "There are 27 noteworthy negative words whose difference is more than 75\n",
            "There are 16 noteworthy negative words whose difference is more than 100\n"
          ]
        }
      ]
    },
    {
      "cell_type": "markdown",
      "source": [
        "5.2) Initialising dictionaries to store accuracy, precision, recall, and F1-scores for different wordlist sizes. These dictionaries will be populated during the experiment, capturing performance metrics for each size wordlist. For each dictionary, the key is the size of the wordlist, and the corresponding value is a list where each item is the metric produced in a run."
      ],
      "metadata": {
        "id": "DY4zp4XMPlY2"
      }
    },
    {
      "cell_type": "code",
      "source": [
        "# Initialising empty dictionaries to store metric values\n",
        "accuracy2 = {}\n",
        "precision = {}\n",
        "recall = {}\n",
        "f1 = {}"
      ],
      "metadata": {
        "id": "pLN5kJZIJhan"
      },
      "execution_count": 26,
      "outputs": []
    },
    {
      "cell_type": "markdown",
      "source": [
        "5.3) Setting `number_of_runs` and `word_list_size`.\n",
        "\n",
        "We conduct the experiment for 3 runs, and consider wordlist sizes ranging from 2 to 1000.\n",
        "\n",
        "We set the wordlist sizes no higher than 1000 because we saw in our earlier exploration that setting the wordlist sizes greater than 1000 would capture words below an appropriate threshold of relevancy. We set the number of runs no higher than 3 so that computing cost and processing time do not become unreasonable, as both increase with number of runs."
      ],
      "metadata": {
        "id": "wMVBXcjgPrwJ"
      }
    },
    {
      "cell_type": "code",
      "source": [
        "# Defining number_of_runs and word_list_size\n",
        "number_of_runs = 3\n",
        "word_list_size = [2,5,10,20,50,75,100,125,150,175,200,225,250,275,300,325,350,375,400,425,450,475,500,750,1000]"
      ],
      "metadata": {
        "id": "vAL4TJc1JkL7"
      },
      "execution_count": 27,
      "outputs": []
    },
    {
      "cell_type": "markdown",
      "source": [
        "## Running the Experiment\n",
        "Below, for each run, we generate training and testing datasets, then train and evaluate the classifier for different wordlist sizes and record the metrics."
      ],
      "metadata": {
        "id": "Ikb6s94CHaKZ"
      }
    },
    {
      "cell_type": "markdown",
      "source": [
        "5.4) **Iterating Over Runs:** First we create a for loop that encapsulates the entire experiment to run the experiment three times. Multiple runs ensure the robustness of the experiment by smoothing out observations due to random chance.\n",
        "\n",
        "5.5) **Splitting Data into Training and Testing Sets:** We use the `get_train_test_data()` function to produce training and testing datasets of appropriate proportions.\n",
        "\n",
        "5.6) **Creating Frequency Distributions:** We create `training_n` and `testing_n`, which modify the training and testing datasets by normalising the wordlists and turning them into frequency distributions, while maintaining the appropriate label for each We then consolodate words from reviews listed as positive or negative into a single frequency distribution for each sentiment.\n",
        "\n",
        "5.7) **Creating Wordlists & Training Classifiers:** For each size, we run the `most_frequent_words()` function on the positive and negative frequency distributions and select the top *size* words. Then we train a simple classifer using these wordlists.\n",
        "\n",
        "5.8) **Evaluating the Classifiers:** Using the testing data, we evaluate the accuracy of each classifier and store the value in the dictionary. Additionally, we compute precision, recall, and F1-score using a confusion matrix, and store those values in the relevant dictionaries."
      ],
      "metadata": {
        "id": "EnAlAOJWP7eq"
      }
    },
    {
      "cell_type": "code",
      "source": [
        "# Iterating Over Runs and Splitting Data into Training and Testing Sets\n",
        "for i in range(number_of_runs):\n",
        "    training, testing = get_train_test_data()\n",
        "\n",
        "    # Creating Frequency Distributions for both datasets\n",
        "    training_n = [(FreqDist(normalise(wordlist)), label) for (wordlist, label) in training]\n",
        "    testing_n = [(FreqDist(normalise(wordlist)), label) for (wordlist, label) in testing]\n",
        "\n",
        "    # Sorting the data in training_norm into a positive and a negative frequency distribution\n",
        "    pos_fd = FreqDist()\n",
        "    neg_fd = FreqDist()\n",
        "\n",
        "    for reviewDist, label in training_n:\n",
        "        if label == 'pos':\n",
        "            pos_fd += reviewDist\n",
        "        else:\n",
        "            neg_fd += reviewDist\n",
        "\n",
        "    # Creating Wordlists & Training Classifiers\n",
        "    for size in word_list_size:\n",
        "        pos_wordlist = most_frequent_words(pos_fd, neg_fd, size)\n",
        "        neg_wordlist = most_frequent_words(neg_fd, pos_fd, size)\n",
        "\n",
        "        clf = SimpleClassifier(pos_wordlist, neg_wordlist)\n",
        "\n",
        "        acc = classifier_accuracy(clf, testing_n)\n",
        "\n",
        "        docs,labels=zip(*testing_n)\n",
        "        sent = ConfusionMatrix(clf.classify_many(docs),labels)\n",
        "\n",
        "        prec = sent.precision()\n",
        "        rec = sent.recall()\n",
        "        f1_score = sent.f1()\n",
        "\n",
        "        # Store the accuracy value for each size in the dictionary\n",
        "        if size not in accuracy2:\n",
        "            accuracy2[size] = []\n",
        "        accuracy2[size].append(acc)\n",
        "\n",
        "        # Store the precision value for each size in the dictionary\n",
        "        if size not in precision:\n",
        "            precision[size] = []\n",
        "        precision[size].append(prec)\n",
        "\n",
        "        # Store the recall value for each size in the dictionary\n",
        "        if size not in recall:\n",
        "            recall[size] = []\n",
        "        recall[size].append(rec)\n",
        "\n",
        "        # Store the F1 value for each size in the dictionary\n",
        "        if size not in f1:\n",
        "            f1[size] = []\n",
        "        f1[size].append(f1_score)"
      ],
      "metadata": {
        "id": "mJeKEmZpHyA3"
      },
      "execution_count": 28,
      "outputs": []
    },
    {
      "cell_type": "markdown",
      "source": [
        "5.9) Calculating the average accuracy, precision, recall, and F1-score for each word list size."
      ],
      "metadata": {
        "id": "lPaCIAe4QCnJ"
      }
    },
    {
      "cell_type": "code",
      "source": [
        "# Calculate the average accuracy for each size\n",
        "average_accuracy = {size: sum(acc_list) / len(acc_list) for size, acc_list in accuracy2.items()}\n",
        "\n",
        "# Calculate the average precision for each size\n",
        "average_precision = {size: sum(p_list) / len(p_list) for size, p_list in precision.items()}\n",
        "\n",
        "# Calculate the average recall for each size\n",
        "average_recall = {size: sum(r_list) / len(r_list) for size, r_list in recall.items()}\n",
        "\n",
        "# Calculate the average F1 for each size\n",
        "average_f1 = {size: sum(f1_list) / len(f1_list) for size, f1_list in f1.items()}"
      ],
      "metadata": {
        "id": "dwjOd49ZJqrC"
      },
      "execution_count": 29,
      "outputs": []
    },
    {
      "cell_type": "markdown",
      "source": [
        "## Presenting and Evaluating Experimental Results"
      ],
      "metadata": {
        "id": "epWbTZKwIRvK"
      }
    },
    {
      "cell_type": "markdown",
      "source": [
        "5.10) Creating dataframes to store average accuracy, precision, recall, and F1 score value for different word list sizes. We do this for ease of comparison and presentation, and to more easily plot the data later in analysis."
      ],
      "metadata": {
        "id": "mSxWsjPUQGpQ"
      }
    },
    {
      "cell_type": "code",
      "source": [
        "# Create a DataFrame from the average accuracy values\n",
        "df_a = pd.DataFrame(list(average_accuracy.items()), columns=['Size', 'Accuracy'])\n",
        "df_a.set_index('Size', inplace=True)\n",
        "\n",
        "print(df_a)\n",
        "\n",
        "# Create a DataFrame from the average precision values\n",
        "df_p = pd.DataFrame(list(average_precision.items()), columns=['Size', 'Precision'])\n",
        "df_p.set_index('Size', inplace=True)\n",
        "\n",
        "print(df_p)\n",
        "\n",
        "# Create a DataFrame from the average recall values\n",
        "df_r = pd.DataFrame(list(average_recall.items()), columns=['Size', 'Recall'])\n",
        "df_r.set_index('Size', inplace=True)\n",
        "\n",
        "print(df_r)\n",
        "\n",
        "# Create a DataFrame from the average F1 values\n",
        "df_f1 = pd.DataFrame(list(average_f1.items()), columns=['Size', 'F1 Score'])\n",
        "df_f1.set_index('Size', inplace=True)\n",
        "\n",
        "print(df_f1)"
      ],
      "metadata": {
        "colab": {
          "base_uri": "https://localhost:8080/"
        },
        "id": "PofnUrvvJzN5",
        "outputId": "bc773f90-f48d-4d23-c27b-398fc9d7929e"
      },
      "execution_count": 30,
      "outputs": [
        {
          "output_type": "stream",
          "name": "stdout",
          "text": [
            "      Accuracy\n",
            "Size          \n",
            "2     0.573889\n",
            "5     0.578333\n",
            "10    0.606111\n",
            "20    0.608333\n",
            "50    0.605556\n",
            "75    0.610556\n",
            "100   0.603333\n",
            "125   0.604444\n",
            "150   0.598333\n",
            "175   0.591111\n",
            "200   0.604444\n",
            "225   0.599444\n",
            "250   0.596111\n",
            "275   0.596111\n",
            "300   0.595000\n",
            "325   0.591111\n",
            "350   0.588889\n",
            "375   0.591111\n",
            "400   0.592222\n",
            "425   0.589444\n",
            "450   0.590000\n",
            "475   0.590556\n",
            "500   0.588333\n",
            "750   0.589444\n",
            "1000  0.583333\n",
            "      Precision\n",
            "Size           \n",
            "2      0.559591\n",
            "5      0.555836\n",
            "10     0.578075\n",
            "20     0.567346\n",
            "50     0.559652\n",
            "75     0.566224\n",
            "100    0.561296\n",
            "125    0.561668\n",
            "150    0.555535\n",
            "175    0.552011\n",
            "200    0.561673\n",
            "225    0.558544\n",
            "250    0.556338\n",
            "275    0.553658\n",
            "300    0.553538\n",
            "325    0.550326\n",
            "350    0.550655\n",
            "375    0.550661\n",
            "400    0.551021\n",
            "425    0.550427\n",
            "450    0.548860\n",
            "475    0.550801\n",
            "500    0.551069\n",
            "750    0.550586\n",
            "1000   0.547450\n",
            "        Recall\n",
            "Size          \n",
            "2     0.725556\n",
            "5     0.805556\n",
            "10    0.815556\n",
            "20    0.914444\n",
            "50    0.954444\n",
            "75    0.950000\n",
            "100   0.963333\n",
            "125   0.963333\n",
            "150   0.968889\n",
            "175   0.972222\n",
            "200   0.973333\n",
            "225   0.972222\n",
            "250   0.973333\n",
            "275   0.976667\n",
            "300   0.978889\n",
            "325   0.980000\n",
            "350   0.981111\n",
            "375   0.980000\n",
            "400   0.978889\n",
            "425   0.976667\n",
            "450   0.980000\n",
            "475   0.982222\n",
            "500   0.983333\n",
            "750   0.981111\n",
            "1000  0.982222\n",
            "      F1 Score\n",
            "Size          \n",
            "2     0.631848\n",
            "5     0.657607\n",
            "10    0.675795\n",
            "20    0.699976\n",
            "50    0.705560\n",
            "75    0.709518\n",
            "100   0.709229\n",
            "125   0.709533\n",
            "150   0.706125\n",
            "175   0.704064\n",
            "200   0.712271\n",
            "225   0.709441\n",
            "250   0.707951\n",
            "275   0.706654\n",
            "300   0.707126\n",
            "325   0.704804\n",
            "350   0.705352\n",
            "375   0.705075\n",
            "400   0.705106\n",
            "425   0.704055\n",
            "450   0.703638\n",
            "475   0.705792\n",
            "500   0.706308\n",
            "750   0.705300\n",
            "1000  0.703012\n"
          ]
        }
      ]
    },
    {
      "cell_type": "markdown",
      "source": [
        "5.11) Combining dataframes to present accuracy and F1-score for each size. We focus on these metrics both precision and recall are already accounted for in the F1-Score."
      ],
      "metadata": {
        "id": "YH1iwI6SQROZ"
      }
    },
    {
      "cell_type": "code",
      "source": [
        "# Merge DataFrames on 'Size'\n",
        "df_a_f1 = pd.merge(df_a, df_f1, on='Size', how='inner')\n",
        "\n",
        "print(df_a_f1)"
      ],
      "metadata": {
        "colab": {
          "base_uri": "https://localhost:8080/"
        },
        "id": "asRayhLpKQUO",
        "outputId": "0fd4e1d5-d804-42c1-9056-bf74eec8dcf6"
      },
      "execution_count": 31,
      "outputs": [
        {
          "output_type": "stream",
          "name": "stdout",
          "text": [
            "      Accuracy  F1 Score\n",
            "Size                    \n",
            "2     0.573889  0.631848\n",
            "5     0.578333  0.657607\n",
            "10    0.606111  0.675795\n",
            "20    0.608333  0.699976\n",
            "50    0.605556  0.705560\n",
            "75    0.610556  0.709518\n",
            "100   0.603333  0.709229\n",
            "125   0.604444  0.709533\n",
            "150   0.598333  0.706125\n",
            "175   0.591111  0.704064\n",
            "200   0.604444  0.712271\n",
            "225   0.599444  0.709441\n",
            "250   0.596111  0.707951\n",
            "275   0.596111  0.706654\n",
            "300   0.595000  0.707126\n",
            "325   0.591111  0.704804\n",
            "350   0.588889  0.705352\n",
            "375   0.591111  0.705075\n",
            "400   0.592222  0.705106\n",
            "425   0.589444  0.704055\n",
            "450   0.590000  0.703638\n",
            "475   0.590556  0.705792\n",
            "500   0.588333  0.706308\n",
            "750   0.589444  0.705300\n",
            "1000  0.583333  0.703012\n"
          ]
        }
      ]
    },
    {
      "cell_type": "markdown",
      "source": [
        "5.12) Visualising experimental results. Here we plot the `df_a_f` dataframe so that we can visually compare and interpret values for accuracy and F1-score."
      ],
      "metadata": {
        "id": "s7FRKkbLQTwE"
      }
    },
    {
      "cell_type": "code",
      "source": [
        "df_a_f1.plot(marker='o', linestyle='-')\n",
        "plt.title('Metrics vs. Size')\n",
        "plt.xlabel('Size')\n",
        "plt.ylabel('Metric Value')\n",
        "plt.grid(True)\n",
        "plt.legend([\"Accuracy\", \"F1 Score\"])\n",
        "plt.show()"
      ],
      "metadata": {
        "colab": {
          "base_uri": "https://localhost:8080/",
          "height": 472
        },
        "id": "MW_s11r_K9A5",
        "outputId": "b3056db0-cc6c-476a-9e9d-2548de73b09d"
      },
      "execution_count": 32,
      "outputs": [
        {
          "output_type": "display_data",
          "data": {
            "text/plain": [
              "<Figure size 640x480 with 1 Axes>"
            ],
            "image/png": "[encoded data removed]"
          },
          "metadata": {}
        }
      ]
    },
    {
      "cell_type": "markdown",
      "source": [
        "**Discussion of Trends**\n",
        "\n",
        "Accuracy jumps up sharply between sizes 5 and 10, and reaches the global maxima at 75, after which it declines until it reaches a local maxima at 175. At 200, we arrive at a local maxima, although the accuracy here is not as high as it was even at size 10. After 200, the accuracy of the classifier declines gently as wordlist size increases.\n",
        "\n",
        "As wordlist size increases, so does the F1-score of the classifier, which reaches its first peak around 75 and then plateaus. F1-score then decreases after 125, reaching a local minima at 175. The global maximum is at 200, after which the F1-score appears to gently decline as wordlist size increases.\n",
        "\n",
        "I anticipate that this is because after a certain point, as wordlist size increases, the marginal impact of each new word decreaes and even becomes negative, as a certain threshold of relevancy has been surpassed.Longer wordlists could also overfit the classifier to the training data, which doesn't tell us as much about the testing data or other future datasets we may want to use the classifier on."
      ],
      "metadata": {
        "id": "Us1cJ5JMjAWa"
      }
    },
    {
      "cell_type": "markdown",
      "source": [
        "**Optimal Sizes**\n",
        "\n",
        "In attempting to both maximize and balance betwen Accuracy and F1-Score, the wordlist sizes of $75$ and $200$ both seem to be optimal depending on which performance metrics you want to prioritize for a given task. There are only very slight differences between performance of the two.\n",
        "\n",
        "- $Size = 75$ is the global maxima for the Accuracy plot, and there is a local maxima at this size for the F1-Score plot. When $Size = 75$, $Accuracy = 0.610556$ and $F1 Score = 0.709518$\n",
        "\n",
        "- $Size = 200$ is the global maxima for the F1-Score plot, and there is a local maxima at this size for the Accuracy plot. When $Size = 75$, $Accuracy = 0.604444$ and $F1 Score = 0.712271$\n",
        "\n",
        "  "
      ],
      "metadata": {
        "id": "LddAShOuSDXI"
      }
    },
    {
      "cell_type": "markdown",
      "source": [
        "### Comparing the Optimal Wordlist Classifiers and the NLTK Naive Bayes Classifier\n",
        "\n",
        "Below, we construct a dataframe of relevant metrics and graphically compare the performance of the optimal wordlist classifiers and the NLTK Naive Bayes classifier."
      ],
      "metadata": {
        "id": "ujN2kYguVLGE"
      }
    },
    {
      "cell_type": "markdown",
      "source": [
        "5.13) Creating a dataframe comparing the 75-Word Classifier, the 200-Word Classifier, andn the Naive Bayes Classifier, `df_comparision`."
      ],
      "metadata": {
        "id": "AfCU0KDjVOCB"
      }
    },
    {
      "cell_type": "code",
      "source": [
        "# Extract metrics for size = 75\n",
        "size_75_accuracy = average_accuracy.get(75, 0)\n",
        "size_75_precision = average_precision.get(75, 0)\n",
        "size_75_recall = average_recall.get(75, 0)\n",
        "size_75_f1_score = average_f1.get(75, 0)\n",
        "\n",
        "# Extract metrics for size = 200\n",
        "size_200_accuracy = average_accuracy.get(200, 0)\n",
        "size_200_precision = average_precision.get(200, 0)\n",
        "size_200_recall = average_recall.get(200, 0)\n",
        "size_200_f1_score = average_f1.get(200, 0)\n",
        "\n",
        "# Create a DataFrame for the three classifiers\n",
        "data = {\n",
        "    \"Metric\": [\"Accuracy\", \"Precision\", \"Recall\", \"F1 Score\"],\n",
        "    \"75-Word Classifier\": [size_75_accuracy, size_75_precision, size_75_recall, size_75_f1_score],\n",
        "    \"Naive Bayes Classifier\": [naive_bayes_accuracy, naive_bayes_precision, naive_bayes_recall, naive_bayes_f1_score],\n",
        "    \"200-Word Classifier\": [size_200_accuracy, size_200_precision, size_200_recall, size_200_f1_score]\n",
        "}\n",
        "\n",
        "df_comparison = pd.DataFrame(data)\n",
        "\n",
        "# Print the DataFrame\n",
        "print(df_comparison)"
      ],
      "metadata": {
        "colab": {
          "base_uri": "https://localhost:8080/"
        },
        "id": "TOEquqVfWEwd",
        "outputId": "1ff4da9c-f469-4f27-ddbc-aecbf06e88a5"
      },
      "execution_count": 33,
      "outputs": [
        {
          "output_type": "stream",
          "name": "stdout",
          "text": [
            "      Metric  75-Word Classifier  Naive Bayes Classifier  200-Word Classifier\n",
            "0   Accuracy            0.610556                0.673333             0.604444\n",
            "1  Precision            0.566224                0.610169             0.561673\n",
            "2     Recall            0.950000                0.960000             0.973333\n",
            "3   F1 Score            0.709518                0.746114             0.712271\n"
          ]
        }
      ]
    },
    {
      "cell_type": "markdown",
      "source": [
        "5.14) Graphically showing the values in `df_comparision` using bar charts."
      ],
      "metadata": {
        "id": "oMJNPtDUVhDN"
      }
    },
    {
      "cell_type": "code",
      "source": [
        "# Plotting\n",
        "fig, ax = plt.subplots(figsize=(10, 6))\n",
        "df_comparison.set_index(\"Metric\").plot(kind=\"bar\", ax=ax, color=['royalblue', 'hotpink', 'forestgreen'])\n",
        "ax.set_ylabel(\"Score\")\n",
        "ax.set_title(\"Classifier Evaluation Metrics\")\n",
        "\n",
        "# Display the values on top of the bars\n",
        "for p in ax.patches:\n",
        "    ax.annotate(str(round(p.get_height(), 2)), (p.get_x() + p.get_width() / 2., p.get_height()),\n",
        "                ha='center', va='center', xytext=(0, 10), textcoords='offset points')\n",
        "\n",
        "plt.show()"
      ],
      "metadata": {
        "colab": {
          "base_uri": "https://localhost:8080/",
          "height": 614
        },
        "id": "VGGN9sF2VURL",
        "outputId": "d8e33013-7666-4807-a533-dd6c7724edb6"
      },
      "execution_count": 34,
      "outputs": [
        {
          "output_type": "display_data",
          "data": {
            "text/plain": [
              "<Figure size 1000x600 with 1 Axes>"
            ],
            "image/png": "[encoded data removed]"
          },
          "metadata": {}
        }
      ]
    },
    {
      "cell_type": "markdown",
      "source": [
        "***As demonstrated in the graph above, the Naive Bayes classifier consistently outperforms even the most optimal-length wordlist classifier on most relevant metrics, so I would recommend a Naive Bayes classifier for future work in this area.***\n",
        "\n",
        "The only metric in which a wordlist classifier outperforms the Naive Bayes classifier is in Recall, and this difference is only about 0.02. Although the 200-Word classifier is marginally better at minimizing false negatives than the Naive Bayes classifier, in all other metrics it falls short when the two are compared, and the 75-Word classifier is not even as good as the Naive Bayes classifer in this metric. As such, for most purposes, the Naive Bayes classifier comes out on top as the strongest classifier in this experiment."
      ],
      "metadata": {
        "id": "XF8JWaITXtRB"
      }
    },
    {
      "cell_type": "markdown",
      "source": [
        "### Appendix: Additional Graphs"
      ],
      "metadata": {
        "id": "1D00SGshMzv4"
      }
    },
    {
      "cell_type": "code",
      "source": [
        "# Convert the dictionary to lists for plotting\n",
        "sizes = list(average_accuracy.keys())\n",
        "accuracies = list(average_accuracy.values())\n",
        "\n",
        "# Plotting\n",
        "plt.plot(sizes, accuracies, marker='o', linestyle='-')\n",
        "plt.title('Accuracy vs. Size')\n",
        "plt.xlabel('Size')\n",
        "plt.ylabel('Accuracy')\n",
        "plt.grid(True)\n",
        "plt.show()\n"
      ],
      "metadata": {
        "colab": {
          "base_uri": "https://localhost:8080/",
          "height": 472
        },
        "id": "ifl1g7yOGk31",
        "outputId": "dd7a2871-6d9b-4088-e36b-3e3bc9eddb70"
      },
      "execution_count": 35,
      "outputs": [
        {
          "output_type": "display_data",
          "data": {
            "text/plain": [
              "<Figure size 640x480 with 1 Axes>"
            ],
            "image/png": "[encoded data removed]"
          },
          "metadata": {}
        }
      ]
    },
    {
      "cell_type": "code",
      "source": [
        "# Convert the dictionary to lists for plotting\n",
        "sizes = list(average_precision.keys())\n",
        "precisions = list(average_precision.values())\n",
        "\n",
        "# Plotting\n",
        "plt.plot(sizes, precisions, marker='o', linestyle='-')\n",
        "plt.title('Precision vs. Size')\n",
        "plt.xlabel('Size')\n",
        "plt.ylabel('Precision')\n",
        "plt.grid(True)\n",
        "plt.show()"
      ],
      "metadata": {
        "colab": {
          "base_uri": "https://localhost:8080/",
          "height": 472
        },
        "id": "mtB9EbBJKqGw",
        "outputId": "c17aff32-44c6-4bff-e7f9-42dcd58bdc15"
      },
      "execution_count": 36,
      "outputs": [
        {
          "output_type": "display_data",
          "data": {
            "text/plain": [
              "<Figure size 640x480 with 1 Axes>"
            ],
            "image/png": "[encoded data removed]"
          },
          "metadata": {}
        }
      ]
    },
    {
      "cell_type": "code",
      "source": [
        "# Convert the dictionary to lists for plotting\n",
        "sizes = list(average_recall.keys())\n",
        "recalls = list(average_recall.values())\n",
        "\n",
        "# Plotting\n",
        "plt.plot(sizes, recalls, marker='o', linestyle='-')\n",
        "plt.title('Recall vs. Size')\n",
        "plt.xlabel('Size')\n",
        "plt.ylabel('Recall')\n",
        "plt.grid(True)\n",
        "plt.show()\n"
      ],
      "metadata": {
        "colab": {
          "base_uri": "https://localhost:8080/",
          "height": 472
        },
        "id": "3vBpqQ0FKzYC",
        "outputId": "97856a64-26e0-4140-e4f9-e813c6fbe41b"
      },
      "execution_count": 37,
      "outputs": [
        {
          "output_type": "display_data",
          "data": {
            "text/plain": [
              "<Figure size 640x480 with 1 Axes>"
            ],
            "image/png": "[encoded data removed]"
          },
          "metadata": {}
        }
      ]
    },
    {
      "cell_type": "code",
      "source": [
        "# Convert the dictionary to lists for plotting\n",
        "sizes = list(average_f1.keys())\n",
        "f1s = list(average_f1.values())\n",
        "\n",
        "# Plotting\n",
        "plt.plot(sizes, f1s, marker='o', linestyle='-')\n",
        "plt.title('F1 Scores vs. Size')\n",
        "plt.xlabel('Size')\n",
        "plt.ylabel('F1 Score')\n",
        "plt.grid(True)\n",
        "plt.show()\n"
      ],
      "metadata": {
        "colab": {
          "base_uri": "https://localhost:8080/",
          "height": 472
        },
        "id": "cOCcnNq5K9CQ",
        "outputId": "a4242fe8-2bd7-4259-aca0-b59d841084a1"
      },
      "execution_count": 38,
      "outputs": [
        {
          "output_type": "display_data",
          "data": {
            "text/plain": [
              "<Figure size 640x480 with 1 Axes>"
            ],
            "image/png": "[encoded data removed]"
          },
          "metadata": {}
        }
      ]
    },
    {
      "cell_type": "markdown",
      "source": [
        "# Notebook Word Count"
      ],
      "metadata": {
        "id": "ubBR9SXWHzAH"
      }
    },
    {
      "cell_type": "code",
      "source": [
        "##This code will word count all of the markdown cells in the notebook saved at filepath\n",
        "\n",
        "import io\n",
        "from nbformat import current\n",
        "\n",
        "from google.colab import drive\n",
        "drive.mount('/content/drive')\n",
        "\n",
        "filepath=\"/content/drive/MyDrive/Semester I/Applied Natural Language Processing/Report T1 Week 7/ANLPassignment2023.ipynb\"\n",
        "question_count=432\n",
        "\n",
        "with io.open(filepath, 'r', encoding='utf-8') as f:\n",
        "    nb = current.read(f, 'json')\n",
        "\n",
        "word_count = 0\n",
        "for cell in nb.worksheets[0].cells:\n",
        "    if cell.cell_type == \"markdown\":\n",
        "        word_count += len(cell['source'].replace('#', '').lstrip().split(' '))\n",
        "print(\"Submission length is {}\".format(word_count-question_count))"
      ],
      "metadata": {
        "colab": {
          "base_uri": "https://localhost:8080/"
        },
        "id": "F6IvqASbQh1c",
        "outputId": "fb53569c-685d-4450-f0bc-d8a76c622477"
      },
      "execution_count": 39,
      "outputs": [
        {
          "output_type": "stream",
          "name": "stderr",
          "text": [
            "<ipython-input-39-2d5c7e7b4a39>:4: DeprecationWarning: nbformat.current is deprecated since before nbformat 3.0\n",
            "\n",
            "- use nbformat for read/write/validate public API\n",
            "- use nbformat.vX directly to composing notebooks of a particular version\n",
            "\n",
            "  from nbformat import current\n"
          ]
        },
        {
          "output_type": "stream",
          "name": "stdout",
          "text": [
            "Drive already mounted at /content/drive; to attempt to forcibly remount, call drive.mount(\"/content/drive\", force_remount=True).\n",
            "Submission length is 1992\n"
          ]
        }
      ]
    }
  ],
  "metadata": {
    "colab": {
      "provenance": [],
      "collapsed_sections": [
        "RbTq6eGv2XT2",
        "YZdDO_Y92XUH",
        "LIS9UpmJNEAp",
        "LGDXaVDqOSfY",
        "ubBR9SXWHzAH"
      ]
    },
    "kernelspec": {
      "display_name": "Python 3",
      "language": "python",
      "name": "python3"
    },
    "language_info": {
      "codemirror_mode": {
        "name": "ipython",
        "version": 3
      },
      "file_extension": ".py",
      "mimetype": "text/x-python",
      "name": "python",
      "nbconvert_exporter": "python",
      "pygments_lexer": "ipython3",
      "version": "3.7.4"
    }
  },
  "nbformat": 4,
  "nbformat_minor": 0
}